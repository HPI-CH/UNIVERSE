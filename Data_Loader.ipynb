{
 "cells": [
  {
   "cell_type": "code",
   "execution_count": 1,
   "id": "663e63ad",
   "metadata": {},
   "outputs": [],
   "source": [
    "import numpy as np\n",
    "import pandas as pd\n",
    "import matplotlib.pyplot as plt\n",
    "from scipy import signal\n",
    "import neurokit2 as nk\n",
    "from scipy.signal import butter, lfilter, savgol_filter, find_peaks\n",
    "from numpy.lib.stride_tricks import as_strided\n",
    "import pickle\n",
    "import os\n",
    "import random\n",
    "random.seed(9700)\n",
    "import warnings \n",
    "warnings.filterwarnings('ignore')\n",
    "from itertools import product\n"
   ]
  },
  {
   "cell_type": "code",
   "execution_count": 2,
   "id": "0538ed48",
   "metadata": {},
   "outputs": [],
   "source": [
    "base_path = '/dhc/cold/groups/idyll/FINAL DATA/UNIVERSE_ANONYMIZED_ZENODO_FINAL/' # define the path the data is saved"
   ]
  },
  {
   "cell_type": "markdown",
   "id": "26f4f2e0",
   "metadata": {},
   "source": [
    "# Loading the raw data"
   ]
  },
  {
   "cell_type": "code",
   "execution_count": 2,
   "id": "fde45550",
   "metadata": {},
   "outputs": [],
   "source": [
    "\n",
    "participant_id =  [item for item in os.listdir(base_path) if os.path.isdir(os.path.join(base_path, item))]\n",
    "participant_id = sorted(participant_id, key=lambda name: int(name.split('_')[1]))\n",
    "lab_sessions = [\"Lab1\", \"Lab2\"]\n",
    "\n",
    "    \n",
    "#### Raw data from the controlled sessions\n",
    "\n",
    "for participant, session in product(participant_id, lab_sessions):\n",
    "    print(f\"Participant: {participant}, Session: {session}\")\n",
    "    try:\n",
    "        path = f'{base_path}{participant}/{session}/Raw/'\n",
    "        print(path)\n",
    "        df_muse = pd.read_csv(path + 'Muse/Muse.csv') # loading the raw muse data\n",
    "        print(df_muse.head())\n",
    "        df_empatica_acc = pd.read_csv (path+ 'Empatica/ACC.csv') # loading the raw accelerometer data\n",
    "        df_empatica_bvp = pd.read_csv (path+ 'Empatica/BVP.csv') # loading the raw blood volume pulse data\n",
    "        df_empatica_temp = pd.read_csv (path+ 'Empatica/TEMP.csv') # loading the raw temperature data\n",
    "        df_empatica_eda = pd.read_csv (path+ 'Empatica/EDA.csv') # loading the raw electrodermal activity data\n",
    "        print(df_empatica_acc.head())\n",
    "    except:\n",
    "        print(\"Missing data for this session\")\n",
    "    \n",
    "#### Raw data from the uncontrolled sessions    \n",
    "\n",
    "for participant in participant_id:\n",
    "    print(f\"Participant: {participant}, Session: Wild\")\n",
    "    try:\n",
    "        path = f'{base_path}{participant}/Wild/Raw/'\n",
    "        wild_folders =[item for item in os.listdir(path)]\n",
    "\n",
    "        for wild in wild_folders:\n",
    "            \n",
    "            df_muse = pd.read_csv(f'{path}{wild}/Muse/Muse.csv') # loading the raw muse data\n",
    "            print(f'{path}{wild}')\n",
    "            print(df_muse.head())\n",
    "            df_empatica_acc = pd.read_csv (f'{path}{wild}/Empatica/ACC.csv') # loading the raw accelerometer data\n",
    "            df_empatica_bvp = pd.read_csv (f'{path}{wild}/Empatica/BVP.csv') # loading the raw blood volume pulse data\n",
    "            df_empatica_temp = pd.read_csv (f'{path}{wild}/Empatica/TEMP.csv') # loading the raw temperature data\n",
    "            df_empatica_eda = pd.read_csv (f'{path}{wild}/Empatica/EDA.csv') # loading the raw electrodermal activity data\n",
    "            print(df_empatica_acc.head())\n",
    "    except:\n",
    "        print(\"Missing data for this session\")\n"
   ]
  },
  {
   "cell_type": "markdown",
   "id": "5499fc65",
   "metadata": {},
   "source": [
    "# Loading Synchronized Data from the Controlled session"
   ]
  },
  {
   "cell_type": "markdown",
   "id": "3afb3149",
   "metadata": {},
   "source": [
    "Using jointly, the data from both devices has been synchronized and stretched to the maximum frequency of the modalities used in each individual devices. For Muse 256 Hz and for Empatica 64 Hz. This is only performed for the controlled sessions. For the uncontrolled sessions data was synchronized based on timestamps, therefore, no streching of the dataset performed."
   ]
  },
  {
   "cell_type": "code",
   "execution_count": 1,
   "id": "0fe462bd",
   "metadata": {},
   "outputs": [],
   "source": [
    "participant_id =  [item for item in os.listdir(base_path) if os.path.isdir(os.path.join(base_path, item))]\n",
    "participant_id = sorted(participant_id, key=lambda name: int(name.split('_')[1]))\n",
    "lab_sessions = [\"Lab1\", \"Lab2\"]\n",
    "\n",
    "    \n",
    "#### Synchronized data from the controlled sessions\n",
    "\n",
    "for participant, session in product(participant_id, lab_sessions):\n",
    "    print(f\"Participant: {participant}, Session: {session}\")\n",
    "    try:\n",
    "        path = f'{base_path}{participant}/{session}/Raw/Stretched/'\n",
    "        df_muse = pd.read_csv(path + 'stretched_muse.csv') # loading the raw muse data\n",
    "        print(df_muse.head())\n",
    "        df_empatica = pd.read_csv (path+ 'stretched_muse.csv') # loading the raw accelerometer data\n",
    "        print(df_empatica.head())\n",
    "    except:\n",
    "        print(\"Missing data for this session\")\n",
    "    "
   ]
  },
  {
   "cell_type": "markdown",
   "id": "1eebb000",
   "metadata": {},
   "source": [
    "# Loading Labeled Data"
   ]
  },
  {
   "cell_type": "code",
   "execution_count": 1,
   "id": "ec44f4e6",
   "metadata": {},
   "outputs": [],
   "source": [
    "participant_id =  [item for item in os.listdir(base_path) if os.path.isdir(os.path.join(base_path, item))]\n",
    "participant_id = sorted(participant_id, key=lambda name: int(name.split('_')[1]))\n",
    "lab_sessions = [\"Lab1\", \"Lab2\", \"Wild\"]\n",
    "\n",
    "    \n",
    "#### Labeled data from the controlled and uncontrolled sessions\n",
    "\n",
    "for participant, session in product(participant_id, lab_sessions):\n",
    "    print(f\"Participant: {participant}, Session: {session}\")\n",
    "    try:\n",
    "        path = f'{base_path}{participant}/{session}/Labeled/'\n",
    "        performed_tasks = [item for item in os.listdir(path) if os.path.isdir(path) and not item.startswith(\"questionnaire\")]\n",
    "        for task in performed_tasks:\n",
    "            task_folders_path = f'{path}{task}'\n",
    "            print(task_folders_path)\n",
    "            for filename in os.listdir(task_folders_path):\n",
    "                file_path = os.path.join(task_folders_path, filename)\n",
    "                with open(file_path, 'rb') as file:\n",
    "                    data = pickle.load(file)\n",
    "                print(\"Data from each the task\", task, \"for individual modality\", data)\n",
    "\n",
    "    except:\n",
    "        print(\"Missing data for this session\")\n"
   ]
  }
 ],
 "metadata": {
  "kernelspec": {
   "display_name": "Python 3 (ipykernel)",
   "language": "python",
   "name": "python3"
  },
  "language_info": {
   "codemirror_mode": {
    "name": "ipython",
    "version": 3
   },
   "file_extension": ".py",
   "mimetype": "text/x-python",
   "name": "python",
   "nbconvert_exporter": "python",
   "pygments_lexer": "ipython3",
   "version": "3.10.4"
  }
 },
 "nbformat": 4,
 "nbformat_minor": 5
}
